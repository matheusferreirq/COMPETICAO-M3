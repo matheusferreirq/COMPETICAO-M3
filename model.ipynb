{
 "cells": [
  {
   "cell_type": "markdown",
   "id": "2207153f",
   "metadata": {},
   "source": [
    "## **IMPORTAÇÃO DE BIBLIOTECAS E DADOS** "
   ]
  },
  {
   "cell_type": "code",
   "execution_count": 5,
   "id": "b7da9895",
   "metadata": {},
   "outputs": [],
   "source": [
    "import pandas as pd\n",
    "import numpy as np\n",
    "from sklearn.model_selection import train_test_split, RandomizedSearchCV\n",
    "from sklearn.ensemble import RandomForestClassifier\n",
    "from sklearn.metrics import confusion_matrix, accuracy_score\n",
    "import matplotlib.pyplot as plt\n",
    "import seaborn as sns"
   ]
  },
  {
   "cell_type": "code",
   "execution_count": 6,
   "id": "07be98ac",
   "metadata": {},
   "outputs": [],
   "source": [
    "df_train = pd.read_csv('train.csv')\n",
    "df_test = pd.read_csv('test.csv')\n",
    "submission = pd.read_csv('sample_submission.csv')"
   ]
  },
  {
   "cell_type": "code",
   "execution_count": 7,
   "id": "5fb9c895",
   "metadata": {},
   "outputs": [],
   "source": [
    "X = df_train.drop(columns=['labels'])\n",
    "y = df_train['labels']"
   ]
  },
  {
   "cell_type": "markdown",
   "id": "eeae0db5",
   "metadata": {},
   "source": [
    "---\n",
    "## **EXPLORAÇÃO INICIAL DOS DADOS E HIPÓTESES** "
   ]
  },
  {
   "cell_type": "code",
   "execution_count": 8,
   "id": "95695671",
   "metadata": {},
   "outputs": [
    {
     "data": {
      "text/html": [
       "<div>\n",
       "<style scoped>\n",
       "    .dataframe tbody tr th:only-of-type {\n",
       "        vertical-align: middle;\n",
       "    }\n",
       "\n",
       "    .dataframe tbody tr th {\n",
       "        vertical-align: top;\n",
       "    }\n",
       "\n",
       "    .dataframe thead th {\n",
       "        text-align: right;\n",
       "    }\n",
       "</style>\n",
       "<table border=\"1\" class=\"dataframe\">\n",
       "  <thead>\n",
       "    <tr style=\"text-align: right;\">\n",
       "      <th></th>\n",
       "      <th>id</th>\n",
       "      <th>age_first_funding_year</th>\n",
       "      <th>age_last_funding_year</th>\n",
       "      <th>age_first_milestone_year</th>\n",
       "      <th>age_last_milestone_year</th>\n",
       "      <th>relationships</th>\n",
       "      <th>funding_rounds</th>\n",
       "      <th>funding_total_usd</th>\n",
       "      <th>milestones</th>\n",
       "      <th>is_CA</th>\n",
       "      <th>...</th>\n",
       "      <th>is_consulting</th>\n",
       "      <th>is_othercategory</th>\n",
       "      <th>has_VC</th>\n",
       "      <th>has_angel</th>\n",
       "      <th>has_roundA</th>\n",
       "      <th>has_roundB</th>\n",
       "      <th>has_roundC</th>\n",
       "      <th>has_roundD</th>\n",
       "      <th>avg_participants</th>\n",
       "      <th>labels</th>\n",
       "    </tr>\n",
       "  </thead>\n",
       "  <tbody>\n",
       "    <tr>\n",
       "      <th>0</th>\n",
       "      <td>719</td>\n",
       "      <td>10.42</td>\n",
       "      <td>13.09</td>\n",
       "      <td>8.98</td>\n",
       "      <td>12.72</td>\n",
       "      <td>4</td>\n",
       "      <td>3</td>\n",
       "      <td>4087500</td>\n",
       "      <td>3</td>\n",
       "      <td>1</td>\n",
       "      <td>...</td>\n",
       "      <td>0</td>\n",
       "      <td>0</td>\n",
       "      <td>1</td>\n",
       "      <td>1</td>\n",
       "      <td>0</td>\n",
       "      <td>0</td>\n",
       "      <td>0</td>\n",
       "      <td>0</td>\n",
       "      <td>1.0</td>\n",
       "      <td>0</td>\n",
       "    </tr>\n",
       "    <tr>\n",
       "      <th>1</th>\n",
       "      <td>429</td>\n",
       "      <td>3.79</td>\n",
       "      <td>3.79</td>\n",
       "      <td>NaN</td>\n",
       "      <td>NaN</td>\n",
       "      <td>21</td>\n",
       "      <td>1</td>\n",
       "      <td>45000000</td>\n",
       "      <td>0</td>\n",
       "      <td>0</td>\n",
       "      <td>...</td>\n",
       "      <td>0</td>\n",
       "      <td>0</td>\n",
       "      <td>0</td>\n",
       "      <td>0</td>\n",
       "      <td>0</td>\n",
       "      <td>1</td>\n",
       "      <td>0</td>\n",
       "      <td>0</td>\n",
       "      <td>1.0</td>\n",
       "      <td>1</td>\n",
       "    </tr>\n",
       "    <tr>\n",
       "      <th>2</th>\n",
       "      <td>178</td>\n",
       "      <td>0.71</td>\n",
       "      <td>2.28</td>\n",
       "      <td>1.95</td>\n",
       "      <td>2.28</td>\n",
       "      <td>5</td>\n",
       "      <td>2</td>\n",
       "      <td>5200000</td>\n",
       "      <td>2</td>\n",
       "      <td>1</td>\n",
       "      <td>...</td>\n",
       "      <td>0</td>\n",
       "      <td>1</td>\n",
       "      <td>1</td>\n",
       "      <td>0</td>\n",
       "      <td>1</td>\n",
       "      <td>0</td>\n",
       "      <td>0</td>\n",
       "      <td>0</td>\n",
       "      <td>1.0</td>\n",
       "      <td>0</td>\n",
       "    </tr>\n",
       "    <tr>\n",
       "      <th>3</th>\n",
       "      <td>197</td>\n",
       "      <td>3.00</td>\n",
       "      <td>5.00</td>\n",
       "      <td>9.62</td>\n",
       "      <td>10.39</td>\n",
       "      <td>16</td>\n",
       "      <td>2</td>\n",
       "      <td>14500000</td>\n",
       "      <td>2</td>\n",
       "      <td>0</td>\n",
       "      <td>...</td>\n",
       "      <td>0</td>\n",
       "      <td>0</td>\n",
       "      <td>0</td>\n",
       "      <td>1</td>\n",
       "      <td>0</td>\n",
       "      <td>1</td>\n",
       "      <td>0</td>\n",
       "      <td>0</td>\n",
       "      <td>2.0</td>\n",
       "      <td>1</td>\n",
       "    </tr>\n",
       "    <tr>\n",
       "      <th>4</th>\n",
       "      <td>444</td>\n",
       "      <td>0.66</td>\n",
       "      <td>5.88</td>\n",
       "      <td>6.21</td>\n",
       "      <td>8.61</td>\n",
       "      <td>29</td>\n",
       "      <td>5</td>\n",
       "      <td>70000000</td>\n",
       "      <td>4</td>\n",
       "      <td>1</td>\n",
       "      <td>...</td>\n",
       "      <td>0</td>\n",
       "      <td>0</td>\n",
       "      <td>0</td>\n",
       "      <td>0</td>\n",
       "      <td>1</td>\n",
       "      <td>1</td>\n",
       "      <td>1</td>\n",
       "      <td>1</td>\n",
       "      <td>2.8</td>\n",
       "      <td>1</td>\n",
       "    </tr>\n",
       "  </tbody>\n",
       "</table>\n",
       "<p>5 rows × 33 columns</p>\n",
       "</div>"
      ],
      "text/plain": [
       "    id  age_first_funding_year  age_last_funding_year  \\\n",
       "0  719                   10.42                  13.09   \n",
       "1  429                    3.79                   3.79   \n",
       "2  178                    0.71                   2.28   \n",
       "3  197                    3.00                   5.00   \n",
       "4  444                    0.66                   5.88   \n",
       "\n",
       "   age_first_milestone_year  age_last_milestone_year  relationships  \\\n",
       "0                      8.98                    12.72              4   \n",
       "1                       NaN                      NaN             21   \n",
       "2                      1.95                     2.28              5   \n",
       "3                      9.62                    10.39             16   \n",
       "4                      6.21                     8.61             29   \n",
       "\n",
       "   funding_rounds  funding_total_usd  milestones  is_CA  ...  is_consulting  \\\n",
       "0               3            4087500           3      1  ...              0   \n",
       "1               1           45000000           0      0  ...              0   \n",
       "2               2            5200000           2      1  ...              0   \n",
       "3               2           14500000           2      0  ...              0   \n",
       "4               5           70000000           4      1  ...              0   \n",
       "\n",
       "   is_othercategory  has_VC  has_angel has_roundA  has_roundB  has_roundC  \\\n",
       "0                 0       1          1          0           0           0   \n",
       "1                 0       0          0          0           1           0   \n",
       "2                 1       1          0          1           0           0   \n",
       "3                 0       0          1          0           1           0   \n",
       "4                 0       0          0          1           1           1   \n",
       "\n",
       "   has_roundD  avg_participants  labels  \n",
       "0           0               1.0       0  \n",
       "1           0               1.0       1  \n",
       "2           0               1.0       0  \n",
       "3           0               2.0       1  \n",
       "4           1               2.8       1  \n",
       "\n",
       "[5 rows x 33 columns]"
      ]
     },
     "execution_count": 8,
     "metadata": {},
     "output_type": "execute_result"
    }
   ],
   "source": [
    "df_train.head()"
   ]
  },
  {
   "cell_type": "code",
   "execution_count": 9,
   "id": "ef752e14",
   "metadata": {},
   "outputs": [
    {
     "name": "stdout",
     "output_type": "stream",
     "text": [
      "<class 'pandas.core.frame.DataFrame'>\n",
      "RangeIndex: 646 entries, 0 to 645\n",
      "Data columns (total 33 columns):\n",
      " #   Column                    Non-Null Count  Dtype  \n",
      "---  ------                    --------------  -----  \n",
      " 0   id                        646 non-null    int64  \n",
      " 1   age_first_funding_year    611 non-null    float64\n",
      " 2   age_last_funding_year     637 non-null    float64\n",
      " 3   age_first_milestone_year  508 non-null    float64\n",
      " 4   age_last_milestone_year   535 non-null    float64\n",
      " 5   relationships             646 non-null    int64  \n",
      " 6   funding_rounds            646 non-null    int64  \n",
      " 7   funding_total_usd         646 non-null    int64  \n",
      " 8   milestones                646 non-null    int64  \n",
      " 9   is_CA                     646 non-null    int64  \n",
      " 10  is_NY                     646 non-null    int64  \n",
      " 11  is_MA                     646 non-null    int64  \n",
      " 12  is_TX                     646 non-null    int64  \n",
      " 13  is_otherstate             646 non-null    int64  \n",
      " 14  category_code             646 non-null    object \n",
      " 15  is_software               646 non-null    int64  \n",
      " 16  is_web                    646 non-null    int64  \n",
      " 17  is_mobile                 646 non-null    int64  \n",
      " 18  is_enterprise             646 non-null    int64  \n",
      " 19  is_advertising            646 non-null    int64  \n",
      " 20  is_gamesvideo             646 non-null    int64  \n",
      " 21  is_ecommerce              646 non-null    int64  \n",
      " 22  is_biotech                646 non-null    int64  \n",
      " 23  is_consulting             646 non-null    int64  \n",
      " 24  is_othercategory          646 non-null    int64  \n",
      " 25  has_VC                    646 non-null    int64  \n",
      " 26  has_angel                 646 non-null    int64  \n",
      " 27  has_roundA                646 non-null    int64  \n",
      " 28  has_roundB                646 non-null    int64  \n",
      " 29  has_roundC                646 non-null    int64  \n",
      " 30  has_roundD                646 non-null    int64  \n",
      " 31  avg_participants          646 non-null    float64\n",
      " 32  labels                    646 non-null    int64  \n",
      "dtypes: float64(5), int64(27), object(1)\n",
      "memory usage: 166.7+ KB\n"
     ]
    }
   ],
   "source": [
    "df_train.info()"
   ]
  },
  {
   "cell_type": "code",
   "execution_count": 10,
   "id": "015fb4af",
   "metadata": {},
   "outputs": [
    {
     "data": {
      "text/html": [
       "<div>\n",
       "<style scoped>\n",
       "    .dataframe tbody tr th:only-of-type {\n",
       "        vertical-align: middle;\n",
       "    }\n",
       "\n",
       "    .dataframe tbody tr th {\n",
       "        vertical-align: top;\n",
       "    }\n",
       "\n",
       "    .dataframe thead th {\n",
       "        text-align: right;\n",
       "    }\n",
       "</style>\n",
       "<table border=\"1\" class=\"dataframe\">\n",
       "  <thead>\n",
       "    <tr style=\"text-align: right;\">\n",
       "      <th></th>\n",
       "      <th>id</th>\n",
       "      <th>age_first_funding_year</th>\n",
       "      <th>age_last_funding_year</th>\n",
       "      <th>age_first_milestone_year</th>\n",
       "      <th>age_last_milestone_year</th>\n",
       "      <th>relationships</th>\n",
       "      <th>funding_rounds</th>\n",
       "      <th>funding_total_usd</th>\n",
       "      <th>milestones</th>\n",
       "      <th>is_CA</th>\n",
       "      <th>...</th>\n",
       "      <th>is_consulting</th>\n",
       "      <th>is_othercategory</th>\n",
       "      <th>has_VC</th>\n",
       "      <th>has_angel</th>\n",
       "      <th>has_roundA</th>\n",
       "      <th>has_roundB</th>\n",
       "      <th>has_roundC</th>\n",
       "      <th>has_roundD</th>\n",
       "      <th>avg_participants</th>\n",
       "      <th>labels</th>\n",
       "    </tr>\n",
       "  </thead>\n",
       "  <tbody>\n",
       "    <tr>\n",
       "      <th>count</th>\n",
       "      <td>646.000000</td>\n",
       "      <td>611.000000</td>\n",
       "      <td>637.000000</td>\n",
       "      <td>508.000000</td>\n",
       "      <td>535.000000</td>\n",
       "      <td>646.000000</td>\n",
       "      <td>646.000000</td>\n",
       "      <td>6.460000e+02</td>\n",
       "      <td>646.000000</td>\n",
       "      <td>646.000000</td>\n",
       "      <td>...</td>\n",
       "      <td>646.000000</td>\n",
       "      <td>646.000000</td>\n",
       "      <td>646.000000</td>\n",
       "      <td>646.000000</td>\n",
       "      <td>646.000000</td>\n",
       "      <td>646.000000</td>\n",
       "      <td>646.000000</td>\n",
       "      <td>646.000000</td>\n",
       "      <td>646.000000</td>\n",
       "      <td>646.000000</td>\n",
       "    </tr>\n",
       "    <tr>\n",
       "      <th>mean</th>\n",
       "      <td>461.577399</td>\n",
       "      <td>2.341718</td>\n",
       "      <td>4.037724</td>\n",
       "      <td>3.352657</td>\n",
       "      <td>4.944729</td>\n",
       "      <td>7.948916</td>\n",
       "      <td>2.351393</td>\n",
       "      <td>2.949633e+07</td>\n",
       "      <td>1.913313</td>\n",
       "      <td>0.546440</td>\n",
       "      <td>...</td>\n",
       "      <td>0.003096</td>\n",
       "      <td>0.304954</td>\n",
       "      <td>0.329721</td>\n",
       "      <td>0.260062</td>\n",
       "      <td>0.515480</td>\n",
       "      <td>0.419505</td>\n",
       "      <td>0.235294</td>\n",
       "      <td>0.091331</td>\n",
       "      <td>2.848655</td>\n",
       "      <td>0.647059</td>\n",
       "    </tr>\n",
       "    <tr>\n",
       "      <th>std</th>\n",
       "      <td>264.859464</td>\n",
       "      <td>2.468275</td>\n",
       "      <td>2.950923</td>\n",
       "      <td>2.866952</td>\n",
       "      <td>3.213319</td>\n",
       "      <td>7.397602</td>\n",
       "      <td>1.357856</td>\n",
       "      <td>2.261999e+08</td>\n",
       "      <td>1.337095</td>\n",
       "      <td>0.498224</td>\n",
       "      <td>...</td>\n",
       "      <td>0.055598</td>\n",
       "      <td>0.460745</td>\n",
       "      <td>0.470476</td>\n",
       "      <td>0.439008</td>\n",
       "      <td>0.500148</td>\n",
       "      <td>0.493860</td>\n",
       "      <td>0.424511</td>\n",
       "      <td>0.288303</td>\n",
       "      <td>1.894050</td>\n",
       "      <td>0.478255</td>\n",
       "    </tr>\n",
       "    <tr>\n",
       "      <th>min</th>\n",
       "      <td>1.000000</td>\n",
       "      <td>0.000000</td>\n",
       "      <td>0.000000</td>\n",
       "      <td>0.000000</td>\n",
       "      <td>0.000000</td>\n",
       "      <td>0.000000</td>\n",
       "      <td>1.000000</td>\n",
       "      <td>1.100000e+04</td>\n",
       "      <td>0.000000</td>\n",
       "      <td>0.000000</td>\n",
       "      <td>...</td>\n",
       "      <td>0.000000</td>\n",
       "      <td>0.000000</td>\n",
       "      <td>0.000000</td>\n",
       "      <td>0.000000</td>\n",
       "      <td>0.000000</td>\n",
       "      <td>0.000000</td>\n",
       "      <td>0.000000</td>\n",
       "      <td>0.000000</td>\n",
       "      <td>1.000000</td>\n",
       "      <td>0.000000</td>\n",
       "    </tr>\n",
       "    <tr>\n",
       "      <th>25%</th>\n",
       "      <td>233.250000</td>\n",
       "      <td>0.680000</td>\n",
       "      <td>1.870000</td>\n",
       "      <td>1.185000</td>\n",
       "      <td>2.540000</td>\n",
       "      <td>3.000000</td>\n",
       "      <td>1.000000</td>\n",
       "      <td>3.000000e+06</td>\n",
       "      <td>1.000000</td>\n",
       "      <td>0.000000</td>\n",
       "      <td>...</td>\n",
       "      <td>0.000000</td>\n",
       "      <td>0.000000</td>\n",
       "      <td>0.000000</td>\n",
       "      <td>0.000000</td>\n",
       "      <td>0.000000</td>\n",
       "      <td>0.000000</td>\n",
       "      <td>0.000000</td>\n",
       "      <td>0.000000</td>\n",
       "      <td>1.500000</td>\n",
       "      <td>0.000000</td>\n",
       "    </tr>\n",
       "    <tr>\n",
       "      <th>50%</th>\n",
       "      <td>459.500000</td>\n",
       "      <td>1.650000</td>\n",
       "      <td>3.610000</td>\n",
       "      <td>2.785000</td>\n",
       "      <td>4.620000</td>\n",
       "      <td>6.000000</td>\n",
       "      <td>2.000000</td>\n",
       "      <td>1.020000e+07</td>\n",
       "      <td>2.000000</td>\n",
       "      <td>1.000000</td>\n",
       "      <td>...</td>\n",
       "      <td>0.000000</td>\n",
       "      <td>0.000000</td>\n",
       "      <td>0.000000</td>\n",
       "      <td>0.000000</td>\n",
       "      <td>1.000000</td>\n",
       "      <td>0.000000</td>\n",
       "      <td>0.000000</td>\n",
       "      <td>0.000000</td>\n",
       "      <td>2.333300</td>\n",
       "      <td>1.000000</td>\n",
       "    </tr>\n",
       "    <tr>\n",
       "      <th>75%</th>\n",
       "      <td>692.500000</td>\n",
       "      <td>3.600000</td>\n",
       "      <td>5.590000</td>\n",
       "      <td>4.935000</td>\n",
       "      <td>6.880000</td>\n",
       "      <td>10.000000</td>\n",
       "      <td>3.000000</td>\n",
       "      <td>2.587500e+07</td>\n",
       "      <td>3.000000</td>\n",
       "      <td>1.000000</td>\n",
       "      <td>...</td>\n",
       "      <td>0.000000</td>\n",
       "      <td>1.000000</td>\n",
       "      <td>1.000000</td>\n",
       "      <td>1.000000</td>\n",
       "      <td>1.000000</td>\n",
       "      <td>1.000000</td>\n",
       "      <td>0.000000</td>\n",
       "      <td>0.000000</td>\n",
       "      <td>4.000000</td>\n",
       "      <td>1.000000</td>\n",
       "    </tr>\n",
       "    <tr>\n",
       "      <th>max</th>\n",
       "      <td>923.000000</td>\n",
       "      <td>21.900000</td>\n",
       "      <td>21.900000</td>\n",
       "      <td>24.680000</td>\n",
       "      <td>24.680000</td>\n",
       "      <td>63.000000</td>\n",
       "      <td>8.000000</td>\n",
       "      <td>5.700000e+09</td>\n",
       "      <td>6.000000</td>\n",
       "      <td>1.000000</td>\n",
       "      <td>...</td>\n",
       "      <td>1.000000</td>\n",
       "      <td>1.000000</td>\n",
       "      <td>1.000000</td>\n",
       "      <td>1.000000</td>\n",
       "      <td>1.000000</td>\n",
       "      <td>1.000000</td>\n",
       "      <td>1.000000</td>\n",
       "      <td>1.000000</td>\n",
       "      <td>16.000000</td>\n",
       "      <td>1.000000</td>\n",
       "    </tr>\n",
       "  </tbody>\n",
       "</table>\n",
       "<p>8 rows × 32 columns</p>\n",
       "</div>"
      ],
      "text/plain": [
       "               id  age_first_funding_year  age_last_funding_year  \\\n",
       "count  646.000000              611.000000             637.000000   \n",
       "mean   461.577399                2.341718               4.037724   \n",
       "std    264.859464                2.468275               2.950923   \n",
       "min      1.000000                0.000000               0.000000   \n",
       "25%    233.250000                0.680000               1.870000   \n",
       "50%    459.500000                1.650000               3.610000   \n",
       "75%    692.500000                3.600000               5.590000   \n",
       "max    923.000000               21.900000              21.900000   \n",
       "\n",
       "       age_first_milestone_year  age_last_milestone_year  relationships  \\\n",
       "count                508.000000               535.000000     646.000000   \n",
       "mean                   3.352657                 4.944729       7.948916   \n",
       "std                    2.866952                 3.213319       7.397602   \n",
       "min                    0.000000                 0.000000       0.000000   \n",
       "25%                    1.185000                 2.540000       3.000000   \n",
       "50%                    2.785000                 4.620000       6.000000   \n",
       "75%                    4.935000                 6.880000      10.000000   \n",
       "max                   24.680000                24.680000      63.000000   \n",
       "\n",
       "       funding_rounds  funding_total_usd  milestones       is_CA  ...  \\\n",
       "count      646.000000       6.460000e+02  646.000000  646.000000  ...   \n",
       "mean         2.351393       2.949633e+07    1.913313    0.546440  ...   \n",
       "std          1.357856       2.261999e+08    1.337095    0.498224  ...   \n",
       "min          1.000000       1.100000e+04    0.000000    0.000000  ...   \n",
       "25%          1.000000       3.000000e+06    1.000000    0.000000  ...   \n",
       "50%          2.000000       1.020000e+07    2.000000    1.000000  ...   \n",
       "75%          3.000000       2.587500e+07    3.000000    1.000000  ...   \n",
       "max          8.000000       5.700000e+09    6.000000    1.000000  ...   \n",
       "\n",
       "       is_consulting  is_othercategory      has_VC   has_angel  has_roundA  \\\n",
       "count     646.000000        646.000000  646.000000  646.000000  646.000000   \n",
       "mean        0.003096          0.304954    0.329721    0.260062    0.515480   \n",
       "std         0.055598          0.460745    0.470476    0.439008    0.500148   \n",
       "min         0.000000          0.000000    0.000000    0.000000    0.000000   \n",
       "25%         0.000000          0.000000    0.000000    0.000000    0.000000   \n",
       "50%         0.000000          0.000000    0.000000    0.000000    1.000000   \n",
       "75%         0.000000          1.000000    1.000000    1.000000    1.000000   \n",
       "max         1.000000          1.000000    1.000000    1.000000    1.000000   \n",
       "\n",
       "       has_roundB  has_roundC  has_roundD  avg_participants      labels  \n",
       "count  646.000000  646.000000  646.000000        646.000000  646.000000  \n",
       "mean     0.419505    0.235294    0.091331          2.848655    0.647059  \n",
       "std      0.493860    0.424511    0.288303          1.894050    0.478255  \n",
       "min      0.000000    0.000000    0.000000          1.000000    0.000000  \n",
       "25%      0.000000    0.000000    0.000000          1.500000    0.000000  \n",
       "50%      0.000000    0.000000    0.000000          2.333300    1.000000  \n",
       "75%      1.000000    0.000000    0.000000          4.000000    1.000000  \n",
       "max      1.000000    1.000000    1.000000         16.000000    1.000000  \n",
       "\n",
       "[8 rows x 32 columns]"
      ]
     },
     "execution_count": 10,
     "metadata": {},
     "output_type": "execute_result"
    }
   ],
   "source": [
    "df_train.describe()"
   ]
  },
  {
   "cell_type": "code",
   "execution_count": 11,
   "id": "9eb17a34",
   "metadata": {},
   "outputs": [
    {
     "data": {
      "text/plain": [
       "id                            0\n",
       "age_first_funding_year       35\n",
       "age_last_funding_year         9\n",
       "age_first_milestone_year    138\n",
       "age_last_milestone_year     111\n",
       "relationships                 0\n",
       "funding_rounds                0\n",
       "funding_total_usd             0\n",
       "milestones                    0\n",
       "is_CA                         0\n",
       "is_NY                         0\n",
       "is_MA                         0\n",
       "is_TX                         0\n",
       "is_otherstate                 0\n",
       "category_code                 0\n",
       "is_software                   0\n",
       "is_web                        0\n",
       "is_mobile                     0\n",
       "is_enterprise                 0\n",
       "is_advertising                0\n",
       "is_gamesvideo                 0\n",
       "is_ecommerce                  0\n",
       "is_biotech                    0\n",
       "is_consulting                 0\n",
       "is_othercategory              0\n",
       "has_VC                        0\n",
       "has_angel                     0\n",
       "has_roundA                    0\n",
       "has_roundB                    0\n",
       "has_roundC                    0\n",
       "has_roundD                    0\n",
       "avg_participants              0\n",
       "labels                        0\n",
       "dtype: int64"
      ]
     },
     "execution_count": 11,
     "metadata": {},
     "output_type": "execute_result"
    }
   ],
   "source": [
    "df_train.isnull().sum()"
   ]
  },
  {
   "cell_type": "code",
   "execution_count": 12,
   "id": "f29be3dc",
   "metadata": {},
   "outputs": [
    {
     "data": {
      "text/plain": [
       "id                            0\n",
       "age_first_funding_year       35\n",
       "age_last_funding_year         9\n",
       "age_first_milestone_year    138\n",
       "age_last_milestone_year     111\n",
       "relationships                 0\n",
       "funding_rounds                0\n",
       "funding_total_usd             0\n",
       "milestones                    0\n",
       "is_CA                         0\n",
       "is_NY                         0\n",
       "is_MA                         0\n",
       "is_TX                         0\n",
       "is_otherstate                 0\n",
       "category_code                 0\n",
       "is_software                   0\n",
       "is_web                        0\n",
       "is_mobile                     0\n",
       "is_enterprise                 0\n",
       "is_advertising                0\n",
       "is_gamesvideo                 0\n",
       "is_ecommerce                  0\n",
       "is_biotech                    0\n",
       "is_consulting                 0\n",
       "is_othercategory              0\n",
       "has_VC                        0\n",
       "has_angel                     0\n",
       "has_roundA                    0\n",
       "has_roundB                    0\n",
       "has_roundC                    0\n",
       "has_roundD                    0\n",
       "avg_participants              0\n",
       "labels                        0\n",
       "dtype: int64"
      ]
     },
     "execution_count": 12,
     "metadata": {},
     "output_type": "execute_result"
    }
   ],
   "source": [
    "df_train.isna().sum()"
   ]
  },
  {
   "cell_type": "code",
   "execution_count": 13,
   "id": "76756944",
   "metadata": {},
   "outputs": [
    {
     "data": {
      "text/plain": [
       "array(['enterprise', 'advertising', 'photo_video', 'web', 'software',\n",
       "       'games_video', 'mobile', 'sports', 'fashion', 'semiconductor',\n",
       "       'security', 'biotech', 'hardware', 'public_relations', 'ecommerce',\n",
       "       'other', 'social', 'cleantech', 'manufacturing', 'automotive',\n",
       "       'network_hosting', 'messaging', 'music', 'travel', 'consulting',\n",
       "       'search', 'finance', 'medical', 'analytics', 'real_estate',\n",
       "       'education', 'health', 'news', 'transportation'], dtype=object)"
      ]
     },
     "execution_count": 13,
     "metadata": {},
     "output_type": "execute_result"
    }
   ],
   "source": [
    "df_train['category_code'].unique()"
   ]
  },
  {
   "cell_type": "code",
   "execution_count": 14,
   "id": "830454c5",
   "metadata": {},
   "outputs": [
    {
     "data": {
      "text/plain": [
       "(646, 33)"
      ]
     },
     "execution_count": 14,
     "metadata": {},
     "output_type": "execute_result"
    }
   ],
   "source": [
    "df_train.shape"
   ]
  },
  {
   "cell_type": "code",
   "execution_count": 15,
   "id": "657bb4d9",
   "metadata": {},
   "outputs": [
    {
     "data": {
      "image/png": "[encoded data removed]",
      "text/plain": [
       "<Figure size 640x480 with 1 Axes>"
      ]
     },
     "metadata": {},
     "output_type": "display_data"
    }
   ],
   "source": [
    "df_train['labels'].value_counts().plot(kind='bar')\n",
    "plt.title(\"Distribuição do alvo (0=insucesso, 1=sucesso)\")\n",
    "plt.xlabel(\"labels\")\n",
    "plt.ylabel(\"Nº de startups\")\n",
    "plt.show()"
   ]
  },
  {
   "cell_type": "code",
   "execution_count": 16,
   "id": "ec904e88",
   "metadata": {},
   "outputs": [
    {
     "data": {
      "image/png": "[encoded data removed]",
      "text/plain": [
       "<Figure size 640x480 with 1 Axes>"
      ]
     },
     "metadata": {},
     "output_type": "display_data"
    }
   ],
   "source": [
    "df_train.boxplot(column='funding_total_usd', by='labels')\n",
    "plt.yscale('log')\n",
    "plt.title(\"Funding Total por Classe (escala log)\")\n",
    "plt.suptitle(\"\")\n",
    "plt.xlabel(\"labels (0=insucesso, 1=sucesso)\")\n",
    "plt.ylabel(\"funding_total_usd (log)\")\n",
    "plt.show()"
   ]
  },
  {
   "cell_type": "markdown",
   "id": "5b335bc8",
   "metadata": {},
   "source": [
    "- *Insights:* Startups bem-sucedidas tendem a ter mais capital captado (mediana maior). Outliers justificam escala log."
   ]
  },
  {
   "cell_type": "code",
   "execution_count": 17,
   "id": "addfd1e4",
   "metadata": {},
   "outputs": [
    {
     "data": {
      "image/png": "[encoded data removed]",
      "text/plain": [
       "<Figure size 640x480 with 1 Axes>"
      ]
     },
     "metadata": {},
     "output_type": "display_data"
    }
   ],
   "source": [
    "plt.hist(df_train[df_train['labels']==1]['relationships'], bins=20, alpha=0.5, label=\"sucesso\")\n",
    "plt.hist(df_train[df_train['labels']==0]['relationships'], bins=20, alpha=0.5, label=\"insucesso\")\n",
    "plt.legend()\n",
    "plt.title(\"Distribuição de relacionamentos por classe\")\n",
    "plt.xlabel(\"relationships\")\n",
    "plt.ylabel(\"freq\")\n",
    "plt.show()"
   ]
  },
  {
   "cell_type": "markdown",
   "id": "473bfe57",
   "metadata": {},
   "source": [
    "- *Insights:* startups bem-sucedidas concentram-se em maior número de relacionamentos, sugerindo que networking importa."
   ]
  },
  {
   "cell_type": "code",
   "execution_count": 18,
   "id": "c171fee2",
   "metadata": {},
   "outputs": [
    {
     "data": {
      "image/png": "[encoded data removed]",
      "text/plain": [
       "<Figure size 640x480 with 1 Axes>"
      ]
     },
     "metadata": {},
     "output_type": "display_data"
    }
   ],
   "source": [
    "loc_cols = ['is_CA','is_NY','is_MA','is_TX','is_otherstate']\n",
    "\n",
    "taxa_loc = df_train.groupby(loc_cols)['labels'].mean()\n",
    "\n",
    "taxas = {}\n",
    "for col in loc_cols:\n",
    "    taxas[col] = df_train.groupby(col)['labels'].mean()[1]\n",
    "\n",
    "taxas_df = pd.Series(taxas)\n",
    "taxas_df.plot(kind='bar')\n",
    "\n",
    "plt.title(\"Taxa de sucesso por Localização\")\n",
    "plt.xlabel(\"Localização (dummy)\")\n",
    "plt.ylabel(\"Proporção de sucesso\")\n",
    "plt.ylim(0,1)\n",
    "plt.show()\n"
   ]
  },
  {
   "cell_type": "markdown",
   "id": "644224dc",
   "metadata": {},
   "source": [
    "- *Insight:* Startups da localizadas em centros cidades grandes apresentam proporção de sucesso ligeiramente maior."
   ]
  },
  {
   "cell_type": "markdown",
   "id": "65dbde26",
   "metadata": {},
   "source": [
    "### **Formulação de Hipóteses**"
   ]
  },
  {
   "cell_type": "markdown",
   "id": "bbc58754",
   "metadata": {},
   "source": [
    "**1. Captação de recursos:** Startups com maior funding total e mais rodadas têm mais chance de sucesso, pois capital acelera crescimento.\n",
    "\n",
    "**2. Conexões estratégicas:** Startups com mais relacionamentos e milestones tendem a ter maior sucesso, refletindo networking e validação do mercado.\n",
    "\n",
    "**3. Ecossistema de inovação:** Startups sediadas em polos (CA, NY, MA)  têm maiores chances, pelo acesso a investidores e hubs tecnológicos."
   ]
  },
  {
   "cell_type": "markdown",
   "id": "90c220fe",
   "metadata": {},
   "source": [
    "### **Seleção de Features**"
   ]
  },
  {
   "cell_type": "markdown",
   "id": "0516cd49",
   "metadata": {},
   "source": [
    "Com base na exploração e hipóteses, as features mais relevantes são:\n",
    "\n",
    "- **Funding e rodadas:** `funding_total_usd`, `funding_rounds`, `avg_participants`\n",
    "- **Conexões e milestones:** `relationships`, `milestones`\n",
    "- **Idades:** `age_first_funding_year`, `age_last_funding_year`,`age_first_milestone_year`, `age_last_milestone_year`\n",
    "- **Localização:** `is_CA`, `is_NY`, `is_MA`, `is_TX`\n",
    "- **Setor:** dummies como `is_software`, `is_web`, `is_mobile`, etc\n",
    "- **Flags de investimento:** `has_VC`, `has_angel`, `has_roundA/B/C/D`"
   ]
  },
  {
   "cell_type": "markdown",
   "id": "2ec1058e",
   "metadata": {},
   "source": [
    "---\n",
    "## **TRATAMENTO E LIMPEZA**"
   ]
  },
  {
   "cell_type": "markdown",
   "id": "f7da1803",
   "metadata": {},
   "source": [
    "#### **1. Seleção de Features**\n",
    "Nesta etapa, definimos o conjunto de variáveis que será usado no modelo.  "
   ]
  },
  {
   "cell_type": "code",
   "execution_count": 19,
   "id": "cc35a576",
   "metadata": {},
   "outputs": [],
   "source": [
    "features = [\n",
    "    'funding_total_usd','funding_rounds','avg_participants',\n",
    "    'relationships','milestones',\n",
    "    'is_CA','is_NY','is_MA','is_TX',\n",
    "    'age_first_funding_year','age_last_funding_year',\n",
    "    'age_first_milestone_year','age_last_milestone_year', 'has_VC','has_angel',\n",
    "    'has_roundA','has_roundB','has_roundC','has_roundD'\n",
    "]\n",
    "features = [c for c in features if c in X.columns]\n",
    "\n",
    "X = X[features].copy()\n",
    "X_test = df_test[features].copy()"
   ]
  },
  {
   "cell_type": "markdown",
   "id": "e9fde97e",
   "metadata": {},
   "source": [
    "#### **2. Criação de Features Derivadas**\n",
    "\n",
    "Nesta etapa, são geradas novas variáveis a partir das já existentes para enriquecer o modelo:\n",
    "\n",
    "- **funding_per_round**: razão entre o total de funding recebido e o número de rodadas de investimento  \n",
    "  -> mede o quanto, em média, cada rodada contribuiu para o financiamento da startup.  \n",
    "\n",
    "- **investor_intensity**: produto entre o número médio de participantes por rodada e o total de rodadas  \n",
    "  -> captura a intensidade/densidade de investidores envolvidos ao longo das rodadas.\n",
    "\n",
    "As mesmas features derivadas são criadas tanto para o conjunto de treino (`X`) quanto para o conjunto de teste (`X_test`), garantindo consistência."
   ]
  },
  {
   "cell_type": "code",
   "execution_count": 20,
   "id": "18e884c3",
   "metadata": {},
   "outputs": [],
   "source": [
    "X['funding_per_round']  = X['funding_total_usd'] / (X['funding_rounds'] + 1)\n",
    "X['investor_intensity'] = X['avg_participants'] * X['funding_rounds']\n",
    "\n",
    "X_test['funding_per_round']  = X_test['funding_total_usd'] / (X_test['funding_rounds'] + 1)\n",
    "X_test['investor_intensity'] = X_test['avg_participants'] * X_test['funding_rounds']"
   ]
  },
  {
   "cell_type": "markdown",
   "id": "aab4f12b",
   "metadata": {},
   "source": [
    "#### **3. Divisão em Conjuntos de Treino e Validação**\n",
    "\n",
    "Aqui separamos os dados em dois subconjuntos:  \n",
    "- **Treino (`X_train`, `y_train`)** → usado para ajustar o modelo.  \n",
    "- **Validação (`X_val`, `y_val`)** → usado para avaliar o desempenho em dados não vistos.  \n",
    "\n",
    "Parâmetros usados:\n",
    "- `test_size=0.1`: 10% dos dados vão para validação.  \n",
    "- `random_state=42`: garante reprodutibilidade dos resultados.  \n",
    "- `stratify=y`: preserva a proporção entre classes (sucesso/insucesso) nos dois subconjuntos."
   ]
  },
  {
   "cell_type": "code",
   "execution_count": 21,
   "id": "0b60ad54",
   "metadata": {},
   "outputs": [],
   "source": [
    "X_train, X_val, y_train, y_val = train_test_split(\n",
    "    X, y, test_size=0.1, random_state=42, stratify=y\n",
    ")"
   ]
  },
  {
   "cell_type": "markdown",
   "id": "08f2cf37",
   "metadata": {},
   "source": [
    "#### **4. Tratamento de Valores Faltantes nas Colunas `age_*`**\n",
    "\n",
    "As colunas que começam com `age_` representam idades relativas a eventos (anos até o funding, milestones, etc.).  \n",
    "Quando esses valores estão ausentes (`NaN`), significa que o evento **não ocorreu**.  \n",
    "\n",
    "Por isso, adotamos a convenção de preencher esses campos com **0**, indicando ausência do evento.  \n",
    "A operação é aplicada de forma consistente nos três conjuntos:  \n",
    "- `X_train`  \n",
    "- `X_val`  \n",
    "- `X_test` "
   ]
  },
  {
   "cell_type": "code",
   "execution_count": 22,
   "id": "27da7aba",
   "metadata": {},
   "outputs": [],
   "source": [
    "age_cols = [c for c in X.columns if c.startswith('age_')]\n",
    "for df in (X_train, X_val, X_test):\n",
    "    df[age_cols] = df[age_cols].fillna(0)"
   ]
  },
  {
   "cell_type": "markdown",
   "id": "9d156442",
   "metadata": {},
   "source": [
    "#### **5. Busca de Hiperparâmetros com RandomizedSearchCV**\n",
    "\n",
    "Nesta etapa, realizamos a **otimização de hiperparâmetros** do `RandomForestClassifier` usando `RandomizedSearchCV`.  \n",
    "O processo sorteia combinações aleatórias de parâmetros a partir de um dicionário pré-definido (`param_dist`) e avalia cada uma via validação cruzada (`cv=3`).\n",
    "\n",
    "**Parâmetros testados:**\n",
    "- `n_estimators`: número de árvores na floresta.  \n",
    "- `max_depth`: profundidade máxima de cada árvore.  \n",
    "- `min_samples_split`: nº mínimo de amostras para dividir um nó.  \n",
    "- `min_samples_leaf`: nº mínimo de amostras em uma folha.  \n",
    "- `max_features`: nº de features consideradas em cada divisão.  \n",
    "- `class_weight`: pesos para balancear classes.  \n",
    "\n",
    "**Configurações da busca:**\n",
    "- `n_iter=30`: número de combinações testadas.  \n",
    "- `scoring='accuracy'`: métrica usada para avaliação.  \n",
    "- `n_jobs=-1`: usa todos os núcleos da CPU para acelerar o processo.  \n",
    "- `random_state=42`: garante reprodutibilidade.  \n",
    "\n",
    "Ao final, são exibidos:\n",
    "- `best_params_`: combinação de hiperparâmetros que obteve melhor desempenho.  \n",
    "- `best_score_`: acurácia média da validação cruzada com essa configuração.  "
   ]
  },
  {
   "cell_type": "code",
   "execution_count": 23,
   "id": "66f015c0",
   "metadata": {},
   "outputs": [
    {
     "name": "stdout",
     "output_type": "stream",
     "text": [
      "Fitting 3 folds for each of 30 candidates, totalling 90 fits\n",
      "Melhores parâmetros: {'n_estimators': 800, 'min_samples_split': 5, 'min_samples_leaf': 1, 'max_features': 0.5, 'max_depth': 5, 'class_weight': None}\n",
      "Melhor score (CV): 0.777923187863896\n"
     ]
    }
   ],
   "source": [
    "param_dist = {\n",
    "    'n_estimators': [200, 400, 600, 800, 1000],\n",
    "    'max_depth': [None, 5, 10, 15, 20],\n",
    "    'min_samples_split': [2, 5, 10],\n",
    "    'min_samples_leaf': [1, 2, 4],\n",
    "    'max_features': ['sqrt', 0.5, 0.7, None],\n",
    "    'class_weight': [None, 'balanced', 'balanced_subsample']\n",
    "}\n",
    "\n",
    "rf = RandomForestClassifier(random_state=42)\n",
    "\n",
    "random_search = RandomizedSearchCV(\n",
    "    estimator=rf,\n",
    "    param_distributions=param_dist,\n",
    "    n_iter=30, \n",
    "    cv=3,       \n",
    "    scoring='accuracy',\n",
    "    verbose=1,\n",
    "    n_jobs=-1,\n",
    "    random_state=42\n",
    ")\n",
    "\n",
    "random_search.fit(X_train, y_train)\n",
    "\n",
    "print(\"Melhores parâmetros:\", random_search.best_params_)\n",
    "print(\"Melhor score (CV):\", random_search.best_score_)"
   ]
  },
  {
   "cell_type": "markdown",
   "id": "b5d80a10",
   "metadata": {},
   "source": [
    "#### **Avaliação do Melhor Modelo na Validação**\n",
    "\n",
    "Após a busca de hiperparâmetros, recuperamos o **melhor estimador** (`best_estimator_`) encontrado pelo `RandomizedSearchCV`.  \n",
    "Com ele, fazemos previsões no conjunto de validação (`X_val`) e avaliamos o desempenho:\n",
    "\n",
    "- **Acurácia de validação**: proporção de acertos sobre o total de exemplos.  \n",
    "- **Matriz de confusão**: mostra detalhadamente os acertos e erros, separando:  \n",
    "  - Verdadeiros Negativos (TN)  \n",
    "  - Falsos Positivos (FP)  \n",
    "  - Falsos Negativos (FN)  \n",
    "  - Verdadeiros Positivos (TP)  \n",
    "\n",
    "Isso permite verificar não só o desempenho geral, mas também se o modelo está enviesado para uma das classes (sucesso ou insucesso).  \n"
   ]
  },
  {
   "cell_type": "code",
   "execution_count": 24,
   "id": "5906c676",
   "metadata": {},
   "outputs": [
    {
     "name": "stdout",
     "output_type": "stream",
     "text": [
      "Acurácia validação: 0.8\n",
      "Matriz de confusão:\n",
      " [[15  8]\n",
      " [ 5 37]]\n"
     ]
    }
   ],
   "source": [
    "best_rf = random_search.best_estimator_\n",
    "pred_val = best_rf.predict(X_val)\n",
    "\n",
    "print(\"Acurácia validação:\", accuracy_score(y_val, pred_val))\n",
    "print(\"Matriz de confusão:\\n\", confusion_matrix(y_val, pred_val))"
   ]
  },
  {
   "cell_type": "markdown",
   "id": "32ac80e4",
   "metadata": {},
   "source": [
    "---\n",
    "## **TREINAMENTO DO MODELO RANDOM FOREST**"
   ]
  },
  {
   "cell_type": "markdown",
   "id": "d363f3c5",
   "metadata": {},
   "source": [
    "#### **1. Justificativa para Escolha do Modelo Random Forest**\n",
    "\n",
    "O Random Forest Classifier foi escolhido como modelo principal pois:\n",
    "\n",
    "1. **Robustez a Outliers e Dados Ruidosos**  \n",
    "   O Random Forest combina múltiplas árvores de decisão, reduzindo a sensibilidade a valores extremos e dados inconsistentes, comuns em bases reais como a de startups.\n",
    "\n",
    "2. **Capacidade de Capturar Relações Não Lineares**  \n",
    "   O Random Forest consegue identificar interações complexas entre variáveis, o que é essencial em cenários de múltiplos fatores de sucesso.\n",
    "\n",
    "3. **Interpretação via Importância das Features**  \n",
    "   Além de boa performance, o Random Forest fornece métricas de importância das variáveis, permitindo analisar quais fatores mais influenciam o sucesso de uma startup.\n",
    "\n",
    "4. **Bom Desempenho em Conjuntos de Dados de Tamanho Moderado**  \n",
    "   Como nosso dataset não é extremamente grande (~900 linhas), o Random Forest é eficiente em termos de tempo de treino e ainda entrega acurácias competitivas.\n",
    "\n",
    "Dessa forma, o Random Forest equilibra simplicidade, interpretabilidade e desempenho, sendo uma escolha adequada para este desafio.\n"
   ]
  },
  {
   "cell_type": "markdown",
   "id": "93ddb524",
   "metadata": {},
   "source": [
    "#### **2. Treinamento Final e Geração da Submissão**\n",
    "\n",
    "- O modelo `best_rf` (Random Forest com hiperparâmetros otimizados via RandomizedSearchCV) é treinado novamente utilizando **todo o conjunto de dados de treino** (união de `X_train` e `X_val`)\n",
    "- Em seguida, o modelo gera as previsões para o **conjunto de teste** (`X_test`).  \n",
    "- Os resultados são armazenados em um **DataFrame de submissão**, que contém as colunas:\n",
    "  - `id`: identificador das observações do conjunto de teste.  \n",
    "  - `labels`: rótulos previstos pelo modelo.  \n",
    "- Finalmente, o arquivo **`submission_Rf.csv`** é salvo, pronto para ser enviado ao Kaggle.\n"
   ]
  },
  {
   "cell_type": "code",
   "execution_count": 25,
   "id": "b22449e5",
   "metadata": {},
   "outputs": [
    {
     "name": "stdout",
     "output_type": "stream",
     "text": [
      "Arquivo submission_RF.csv gerado!\n"
     ]
    }
   ],
   "source": [
    "best_rf.fit(pd.concat([X_train, X_val], axis=0), pd.concat([y_train, y_val], axis=0))\n",
    "test_pred = best_rf.predict(X_test)\n",
    "\n",
    "submission = pd.DataFrame({\n",
    "    \"id\": df_test[\"id\"],\n",
    "    \"labels\": test_pred\n",
    "})\n",
    "submission.to_csv(\"submission_RF.csv\", index=False)\n",
    "print(\"Arquivo submission_RF.csv gerado!\")"
   ]
  }
 ],
 "metadata": {
  "kernelspec": {
   "display_name": "Python 3",
   "language": "python",
   "name": "python3"
  },
  "language_info": {
   "codemirror_mode": {
    "name": "ipython",
    "version": 3
   },
   "file_extension": ".py",
   "mimetype": "text/x-python",
   "name": "python",
   "nbconvert_exporter": "python",
   "pygments_lexer": "ipython3",
   "version": "3.13.3"
  }
 },
 "nbformat": 4,
 "nbformat_minor": 5
}
